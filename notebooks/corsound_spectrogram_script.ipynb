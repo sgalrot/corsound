{
 "cells": [
  {
   "cell_type": "markdown",
   "metadata": {
    "id": "PlhihZ4W9m8B"
   },
   "source": [
    "# Corsound wav into spectrogram"
   ]
  },
  {
   "cell_type": "markdown",
   "metadata": {
    "id": "BVmi6s4qRL06"
   },
   "source": [
    "### Importing Packages\n",
    "\n",
    "Importing the NumPy, Pandas and Matplotlib, PyTorch Scikit-Image etc. packages."
   ]
  },
  {
   "cell_type": "code",
   "execution_count": 1,
   "metadata": {
    "id": "Kp-1wEW29m8F"
   },
   "outputs": [],
   "source": [
    "import numpy as np\n",
    "import pandas as pd\n",
    "import matplotlib.pyplot as plt\n",
    "import tqdm.notebook as tqdm\n",
    "import torch\n",
    "from torchvision import datasets\n",
    "from skimage.transform import resize\n",
    "from skimage.io import imread, imsave\n",
    "from scipy.io import wavfile\n",
    "\n",
    "\n",
    "## This line makes matplotlib plot the figures inside the notebook\n",
    "%matplotlib inline\n",
    "\n",
    "## Set some default values of the the matplotlib plots\n",
    "plt.rcParams['figure.figsize'] = (8.0, 8.0)  # Set default plot's sizes\n",
    "plt.rcParams['axes.grid'] = True  # Show grid by default in figures\n"
   ]
  },
  {
   "cell_type": "markdown",
   "metadata": {
    "id": "XZuDEHpv9m8I"
   },
   "source": [
    "## Load Dataset and Show Signal\n",
    "\n",
    "Loading wav files dataset and show some signals.\n",
    "\n",
    "We assume number of channels=1, for these signals with two channels, we take the first channel and we can add them later to the dataset"
   ]
  },
  {
   "cell_type": "code",
   "execution_count": 2,
   "metadata": {
    "colab": {
     "base_uri": "https://localhost:8080/",
     "height": 204
    },
    "executionInfo": {
     "elapsed": 413,
     "status": "ok",
     "timestamp": 1656912808797,
     "user": {
      "displayName": "Gal Rotbard",
      "userId": "03021934282425776451"
     },
     "user_tz": -180
    },
    "id": "8J13qFdCcTUq",
    "outputId": "3ebc02df-e906-4570-bd33-f3c6b1726d46"
   },
   "outputs": [
    {
     "data": {
      "text/html": [
       "<div>\n",
       "<style scoped>\n",
       "    .dataframe tbody tr th:only-of-type {\n",
       "        vertical-align: middle;\n",
       "    }\n",
       "\n",
       "    .dataframe tbody tr th {\n",
       "        vertical-align: top;\n",
       "    }\n",
       "\n",
       "    .dataframe thead th {\n",
       "        text-align: right;\n",
       "    }\n",
       "</style>\n",
       "<table border=\"1\" class=\"dataframe\">\n",
       "  <thead>\n",
       "    <tr style=\"text-align: right;\">\n",
       "      <th></th>\n",
       "      <th>File_Path</th>\n",
       "      <th>Labels</th>\n",
       "    </tr>\n",
       "  </thead>\n",
       "  <tbody>\n",
       "    <tr>\n",
       "      <th>0</th>\n",
       "      <td>../test_txt/txt/test_txt/wav/id08149/O_gtwphGl...</td>\n",
       "      <td>id08149</td>\n",
       "    </tr>\n",
       "    <tr>\n",
       "      <th>1</th>\n",
       "      <td>../test_txt/txt/test_txt/wav/id08149/flDRzz6oo...</td>\n",
       "      <td>id08149</td>\n",
       "    </tr>\n",
       "    <tr>\n",
       "      <th>2</th>\n",
       "      <td>../test_txt/txt/test_txt/wav/id08149/O_gtwphGl...</td>\n",
       "      <td>id08149</td>\n",
       "    </tr>\n",
       "    <tr>\n",
       "      <th>3</th>\n",
       "      <td>../test_txt/txt/test_txt/wav/id04119/zoVFDaU6a...</td>\n",
       "      <td>id04119</td>\n",
       "    </tr>\n",
       "    <tr>\n",
       "      <th>4</th>\n",
       "      <td>../test_txt/txt/test_txt/wav/id08149/ozGl4eZyZ...</td>\n",
       "      <td>id08149</td>\n",
       "    </tr>\n",
       "  </tbody>\n",
       "</table>\n",
       "</div>"
      ],
      "text/plain": [
       "                                           File_Path   Labels\n",
       "0  ../test_txt/txt/test_txt/wav/id08149/O_gtwphGl...  id08149\n",
       "1  ../test_txt/txt/test_txt/wav/id08149/flDRzz6oo...  id08149\n",
       "2  ../test_txt/txt/test_txt/wav/id08149/O_gtwphGl...  id08149\n",
       "3  ../test_txt/txt/test_txt/wav/id04119/zoVFDaU6a...  id04119\n",
       "4  ../test_txt/txt/test_txt/wav/id08149/ozGl4eZyZ...  id08149"
      ]
     },
     "execution_count": 2,
     "metadata": {},
     "output_type": "execute_result"
    }
   ],
   "source": [
    "from os.path import split\n",
    "import glob\n",
    "path = '../test_txt/txt/test_txt/wav'\n",
    "path_img = list(glob.glob(path+'/*/*/*.wav'))\n",
    "\n",
    "labels = list(map(lambda x:split(split(x)[0])[-2], path_img))\n",
    "labels = [label.split('/')[-1] for label in labels]\n",
    "file_path = pd.Series(path_img, name='File_Path').astype(str)\n",
    "\n",
    "labels = pd.Series(labels, name='Labels')\n",
    "data = pd.concat([file_path, labels], axis=1)\n",
    "data = data.sample(frac=1).reset_index(drop=True)\n",
    "data.head()\n"
   ]
  },
  {
   "cell_type": "code",
   "execution_count": 3,
   "metadata": {},
   "outputs": [
    {
     "name": "stdout",
     "output_type": "stream",
     "text": [
      "length = 5.44s\n",
      "sample rate = 48000Hz\n"
     ]
    },
    {
     "data": {
      "image/png": "[encoded data removed]",
      "text/plain": [
       "<Figure size 576x576 with 1 Axes>"
      ]
     },
     "metadata": {
      "needs_background": "light"
     },
     "output_type": "display_data"
    }
   ],
   "source": [
    "example_file_path = data.File_Path[1]\n",
    "data_label = data.Labels[1]\n",
    "samplerate, signal_wav = wavfile.read(example_file_path)\n",
    "\n",
    "length = signal_wav.shape[0] / samplerate\n",
    "\n",
    "print(f\"length = {length}s\")\n",
    "print(f\"sample rate = {samplerate}Hz\")\n",
    "\n",
    "if len(signal_wav.shape) > 1:\n",
    "    signal_wav = signal_wav[:,0]\n",
    "time = np.linspace(0., length, signal_wav.shape[0])\n",
    "plt.plot(time, signal_wav, label=data_label)\n",
    "plt.legend()\n",
    "plt.xlabel(\"Time [s]\")\n",
    "plt.ylabel(\"Amplitude\")\n",
    "plt.show()"
   ]
  },
  {
   "cell_type": "markdown",
   "metadata": {
    "id": "XZuDEHpv9m8I"
   },
   "source": [
    "## Preprocessing\n",
    "### VAD\n",
    "We used rVAD: An Unsupervised Segment-Based Robust Voice Activity Detection Method\n",
    "\n",
    "Repo: https://github.com/zhenghuatan/rVAD\n",
    "\n",
    "Ref: [https://www.sciencedirect.com/science/article/pii/S0885230819300920]"
   ]
  },
  {
   "cell_type": "code",
   "execution_count": 4,
   "metadata": {},
   "outputs": [],
   "source": [
    "import sys\n",
    "sys.path.insert(0, '../rvad')\n",
    "import rVAD_fast\n",
    "\n",
    "vad = rVAD_fast.rVAD_fast(example_file_path, 0.5,0.4)"
   ]
  },
  {
   "cell_type": "code",
   "execution_count": 5,
   "metadata": {},
   "outputs": [
    {
     "name": "stdout",
     "output_type": "stream",
     "text": [
      "542\n"
     ]
    }
   ],
   "source": [
    "vad_length = len(vad)\n",
    "print(vad_length)"
   ]
  },
  {
   "cell_type": "code",
   "execution_count": 6,
   "metadata": {},
   "outputs": [
    {
     "data": {
      "image/png": "[encoded data removed]",
      "text/plain": [
       "<Figure size 576x576 with 1 Axes>"
      ]
     },
     "metadata": {
      "needs_background": "light"
     },
     "output_type": "display_data"
    }
   ],
   "source": [
    "time = np.linspace(0., length, signal_wav.shape[0])\n",
    "time2 = np.linspace(0., length, vad_length)\n",
    "\n",
    "\n",
    "\n",
    "\n",
    "plt.plot(time, signal_wav, label=data_label)\n",
    "plt.plot(time2, vad*max(signal_wav), label = \"VAD\")\n",
    "plt.legend()\n",
    "plt.xlabel(\"Time [s]\")\n",
    "plt.ylabel(\"Amplitude\")\n",
    "plt.show()"
   ]
  },
  {
   "cell_type": "markdown",
   "metadata": {
    "id": "XZuDEHpv9m8I"
   },
   "source": [
    "#### Cutting signal with VAD result after LPF\n"
   ]
  },
  {
   "cell_type": "markdown",
   "metadata": {
    "id": "XZuDEHpv9m8I"
   },
   "source": [
    "##### LPF\n",
    "We have a real signal, nyquist freq = 44khz, this is way more than we need since the human voice freq range is 80Hz-255Hz. We will perform a low pass filtering with cut-off frequency 1kHz, (about the same scale and much easier remembering, also the lpf is not ideal and we don't want to cause a signal loss.\n",
    "Then, we can discard freq > 1k and focus only on relevant signal.\n"
   ]
  },
  {
   "cell_type": "code",
   "execution_count": 7,
   "metadata": {},
   "outputs": [],
   "source": [
    "from scipy.signal import butter,filtfilt\n",
    "def butter_lowpass_filter(data, cutoff, fs, order):\n",
    "    nyq = fs / 2\n",
    "    normal_cutoff = cutoff / nyq\n",
    "    # Get the filter coefficients \n",
    "    b, a = butter(order, normal_cutoff, btype='low', analog=False)\n",
    "    y = filtfilt(b, a, data)\n",
    "    return y\n",
    "\n",
    "order = 3\n",
    "cutoff = 1000\n",
    "signal_wav_filtered = butter_lowpass_filter(signal_wav, cutoff, samplerate, order)"
   ]
  },
  {
   "cell_type": "markdown",
   "metadata": {
    "id": "XZuDEHpv9m8I"
   },
   "source": [
    "##### VAD Cutting\n"
   ]
  },
  {
   "cell_type": "code",
   "execution_count": 8,
   "metadata": {},
   "outputs": [
    {
     "data": {
      "image/png": "[encoded data removed]",
      "text/plain": [
       "<Figure size 576x576 with 1 Axes>"
      ]
     },
     "metadata": {
      "needs_background": "light"
     },
     "output_type": "display_data"
    }
   ],
   "source": [
    "from scipy import interpolate\n",
    "x = time2\n",
    "y = vad\n",
    "f = interpolate.interp1d(x, y,kind='nearest')\n",
    "xnew = time\n",
    "ynew = f(time)   # use interpolation function returned by `nearest`\n",
    "plt.plot(x, y, 'o', xnew, ynew, '-')\n",
    "plt.show()"
   ]
  },
  {
   "cell_type": "code",
   "execution_count": 9,
   "metadata": {},
   "outputs": [
    {
     "data": {
      "text/plain": [
       "(238433,)"
      ]
     },
     "execution_count": 9,
     "metadata": {},
     "output_type": "execute_result"
    }
   ],
   "source": [
    "signal_wav_after_vad = signal_wav_filtered[np.where(ynew>0)]"
   ]
  },
  {
   "cell_type": "markdown",
   "metadata": {
    "id": "XZuDEHpv9m8I"
   },
   "source": [
    "## VAD Demo"
   ]
  },
  {
   "cell_type": "code",
   "execution_count": 10,
   "metadata": {},
   "outputs": [],
   "source": [
    "import scipy\n",
    "scipy.io.wavfile.write(\"before_vad.wav\", samplerate, signal_wav)\n",
    "scipy.io.wavfile.write(\"vad.wav\", samplerate, signal_wav[np.where(ynew>0)])\n",
    "!open before_vad.wav\n",
    "!sleep 5\n",
    "!open vad.wav"
   ]
  },
  {
   "cell_type": "markdown",
   "metadata": {
    "id": "XZuDEHpv9m8I"
   },
   "source": [
    "## Spectrogram"
   ]
  },
  {
   "cell_type": "code",
   "execution_count": 30,
   "metadata": {},
   "outputs": [
    {
     "name": "stderr",
     "output_type": "stream",
     "text": [
      "/var/folders/_q/y1_r6q4d4w1cm8nj4hvnxmzc0000gn/T/ipykernel_11230/1644892750.py:3: MatplotlibDeprecationWarning: Auto-removal of grids by pcolor() and pcolormesh() is deprecated since 3.5 and will be removed two minor releases later; please call grid(False) first.\n",
      "  plt.pcolormesh(t, f, Sxx)\n"
     ]
    },
    {
     "data": {
      "image/png": "[encoded data removed]",
      "text/plain": [
       "<Figure size 576x576 with 1 Axes>"
      ]
     },
     "metadata": {
      "needs_background": "light"
     },
     "output_type": "display_data"
    }
   ],
   "source": [
    "from scipy import signal\n",
    "f, t, Sxx = signal.spectrogram(signal_wav_after_vad, samplerate, nfft = 8192, nperseg=1024)\n",
    "plt.pcolormesh(t, f, Sxx)\n",
    "plt.ylabel('Frequency [Hz]')\n",
    "plt.xlabel('Time [sec]')\n",
    "plt.ylim(0, 1250)\n",
    "plt.show()"
   ]
  },
  {
   "cell_type": "markdown",
   "metadata": {
    "id": "XZuDEHpv9m8I"
   },
   "source": [
    "##Saving as jpeg\n",
    "Since we want to save only relevant frequencies (we said roughly ~1k) on 160x160 image we will make sure the final 159 freq is around 1000Hz."
   ]
  },
  {
   "cell_type": "code",
   "execution_count": 35,
   "metadata": {},
   "outputs": [
    {
     "name": "stdout",
     "output_type": "stream",
     "text": [
      "last freq to save == 931.640625\n"
     ]
    }
   ],
   "source": [
    "assert(f[159]> 900 and f[159] < 1100)\n",
    "print(\"last freq to save == {}\".format(f[159]))"
   ]
  },
  {
   "cell_type": "code",
   "execution_count": null,
   "metadata": {},
   "outputs": [],
   "source": [
    "Sxx = Sxx[:]"
   ]
  },
  {
   "cell_type": "code",
   "execution_count": 12,
   "metadata": {},
   "outputs": [
    {
     "name": "stderr",
     "output_type": "stream",
     "text": [
      "Lossy conversion from float64 to uint8. Range [1.8108034149736792e-19, 295881.87271025137]. Convert image to uint8 prior to saving to suppress this warning.\n"
     ]
    }
   ],
   "source": [
    "imsave('example_spectrogram.jpeg', Sxx)"
   ]
  },
  {
   "cell_type": "code",
   "execution_count": 36,
   "metadata": {},
   "outputs": [
    {
     "data": {
      "text/plain": [
       "(4097, 265)"
      ]
     },
     "execution_count": 36,
     "metadata": {},
     "output_type": "execute_result"
    }
   ],
   "source": [
    "Sxx.shape"
   ]
  },
  {
   "cell_type": "code",
   "execution_count": 16,
   "metadata": {},
   "outputs": [
    {
     "data": {
      "text/plain": [
       "<matplotlib.image.AxesImage at 0x15febc190>"
      ]
     },
     "execution_count": 16,
     "metadata": {},
     "output_type": "execute_result"
    },
    {
     "data": {
      "image/png": "[encoded data removed]",
      "text/plain": [
       "<Figure size 576x576 with 1 Axes>"
      ]
     },
     "metadata": {
      "needs_background": "light"
     },
     "output_type": "display_data"
    }
   ],
   "source": [
    "bla = imread('example_spectrogram.jpeg')\n",
    "plt.imshow(bla)"
   ]
  },
  {
   "cell_type": "code",
   "execution_count": 14,
   "metadata": {},
   "outputs": [
    {
     "data": {
      "text/plain": [
       "array([[1.15959048e+01, 3.42740359e+00, 9.01458983e-02, ...,\n",
       "        1.97381089e+02, 1.62982910e+02, 1.01172614e+02],\n",
       "       [8.07213690e+01, 2.66145208e+01, 1.30643715e+01, ...,\n",
       "        5.84668015e+01, 7.79724580e+01, 3.82492735e+01],\n",
       "       [1.69052850e+02, 1.78203846e+00, 3.71464286e+00, ...,\n",
       "        2.60140404e+02, 1.61111293e+02, 1.57734777e+02],\n",
       "       ...,\n",
       "       [8.43084978e-13, 3.62920862e-14, 2.07063405e-14, ...,\n",
       "        7.15660589e-13, 1.03844934e-12, 8.37239439e-13],\n",
       "       [1.22554827e-12, 2.18273752e-14, 1.88760287e-15, ...,\n",
       "        2.96416853e-12, 3.96963715e-12, 3.14655587e-13],\n",
       "       [3.90377992e-13, 1.72574932e-15, 3.63455208e-15, ...,\n",
       "        6.22806854e-13, 2.42849381e-13, 3.04070939e-13]])"
      ]
     },
     "execution_count": 14,
     "metadata": {},
     "output_type": "execute_result"
    }
   ],
   "source": [
    "Sxx\n"
   ]
  },
  {
   "cell_type": "code",
   "execution_count": null,
   "metadata": {},
   "outputs": [],
   "source": []
  }
 ],
 "metadata": {
  "accelerator": "GPU",
  "colab": {
   "collapsed_sections": [],
   "name": "simpsons_compression.ipynb",
   "provenance": [
    {
     "file_id": "11er4-qgl9rhwt6mN14W7K4bj1-ctsz74",
     "timestamp": 1656404782868
    }
   ]
  },
  "gpuClass": "standard",
  "kernelspec": {
   "display_name": "corsound_venv",
   "language": "python",
   "name": "corsound_venv"
  },
  "language_info": {
   "codemirror_mode": {
    "name": "ipython",
    "version": 3
   },
   "file_extension": ".py",
   "mimetype": "text/x-python",
   "name": "python",
   "nbconvert_exporter": "python",
   "pygments_lexer": "ipython3",
   "version": "3.9.13"
  },
  "widgets": {
   "application/vnd.jupyter.widget-state+json": {
    "06a63925ab0c46f2bc26969fab9b19d8": {
     "model_module": "@jupyter-widgets/base",
     "model_module_version": "1.2.0",
     "model_name": "LayoutModel",
     "state": {
      "_model_module": "@jupyter-widgets/base",
      "_model_module_version": "1.2.0",
      "_model_name": "LayoutModel",
      "_view_count": null,
      "_view_module": "@jupyter-widgets/base",
      "_view_module_version": "1.2.0",
      "_view_name": "LayoutView",
      "align_content": null,
      "align_items": null,
      "align_self": null,
      "border": null,
      "bottom": null,
      "display": null,
      "flex": null,
      "flex_flow": null,
      "grid_area": null,
      "grid_auto_columns": null,
      "grid_auto_flow": null,
      "grid_auto_rows": null,
      "grid_column": null,
      "grid_gap": null,
      "grid_row": null,
      "grid_template_areas": null,
      "grid_template_columns": null,
      "grid_template_rows": null,
      "height": null,
      "justify_content": null,
      "justify_items": null,
      "left": null,
      "margin": null,
      "max_height": null,
      "max_width": null,
      "min_height": null,
      "min_width": null,
      "object_fit": null,
      "object_position": null,
      "order": null,
      "overflow": null,
      "overflow_x": null,
      "overflow_y": null,
      "padding": null,
      "right": null,
      "top": null,
      "visibility": null,
      "width": null
     }
    },
    "1702063f9bf74b0a95cfe68f390ab93d": {
     "model_module": "@jupyter-widgets/controls",
     "model_module_version": "1.5.0",
     "model_name": "HBoxModel",
     "state": {
      "_dom_classes": [],
      "_model_module": "@jupyter-widgets/controls",
      "_model_module_version": "1.5.0",
      "_model_name": "HBoxModel",
      "_view_count": null,
      "_view_module": "@jupyter-widgets/controls",
      "_view_module_version": "1.5.0",
      "_view_name": "HBoxView",
      "box_style": "",
      "children": [
       "IPY_MODEL_5963e730dff049a08123e51fe688a743",
       "IPY_MODEL_9e174a40d7334394b24e54797ac15e77",
       "IPY_MODEL_bcc20445c38647e1ad5ffe2535fe2a8f"
      ],
      "layout": "IPY_MODEL_91b9e22b8c5642b39070f24e2ddc7c1d"
     }
    },
    "31e179d7623e4366907861014e45bc7f": {
     "model_module": "@jupyter-widgets/controls",
     "model_module_version": "1.5.0",
     "model_name": "ProgressStyleModel",
     "state": {
      "_model_module": "@jupyter-widgets/controls",
      "_model_module_version": "1.5.0",
      "_model_name": "ProgressStyleModel",
      "_view_count": null,
      "_view_module": "@jupyter-widgets/base",
      "_view_module_version": "1.2.0",
      "_view_name": "StyleView",
      "bar_color": null,
      "description_width": ""
     }
    },
    "5963e730dff049a08123e51fe688a743": {
     "model_module": "@jupyter-widgets/controls",
     "model_module_version": "1.5.0",
     "model_name": "HTMLModel",
     "state": {
      "_dom_classes": [],
      "_model_module": "@jupyter-widgets/controls",
      "_model_module_version": "1.5.0",
      "_model_name": "HTMLModel",
      "_view_count": null,
      "_view_module": "@jupyter-widgets/controls",
      "_view_module_version": "1.5.0",
      "_view_name": "HTMLView",
      "description": "",
      "description_tooltip": null,
      "layout": "IPY_MODEL_06a63925ab0c46f2bc26969fab9b19d8",
      "placeholder": "​",
      "style": "IPY_MODEL_e8c3a6a2687544628ad9db045bbffb70",
      "value": " 68%"
     }
    },
    "78672a7d92424be091dc7abd8e826655": {
     "model_module": "@jupyter-widgets/base",
     "model_module_version": "1.2.0",
     "model_name": "LayoutModel",
     "state": {
      "_model_module": "@jupyter-widgets/base",
      "_model_module_version": "1.2.0",
      "_model_name": "LayoutModel",
      "_view_count": null,
      "_view_module": "@jupyter-widgets/base",
      "_view_module_version": "1.2.0",
      "_view_name": "LayoutView",
      "align_content": null,
      "align_items": null,
      "align_self": null,
      "border": null,
      "bottom": null,
      "display": null,
      "flex": null,
      "flex_flow": null,
      "grid_area": null,
      "grid_auto_columns": null,
      "grid_auto_flow": null,
      "grid_auto_rows": null,
      "grid_column": null,
      "grid_gap": null,
      "grid_row": null,
      "grid_template_areas": null,
      "grid_template_columns": null,
      "grid_template_rows": null,
      "height": null,
      "justify_content": null,
      "justify_items": null,
      "left": null,
      "margin": null,
      "max_height": null,
      "max_width": null,
      "min_height": null,
      "min_width": null,
      "object_fit": null,
      "object_position": null,
      "order": null,
      "overflow": null,
      "overflow_x": null,
      "overflow_y": null,
      "padding": null,
      "right": null,
      "top": null,
      "visibility": null,
      "width": null
     }
    },
    "91b9e22b8c5642b39070f24e2ddc7c1d": {
     "model_module": "@jupyter-widgets/base",
     "model_module_version": "1.2.0",
     "model_name": "LayoutModel",
     "state": {
      "_model_module": "@jupyter-widgets/base",
      "_model_module_version": "1.2.0",
      "_model_name": "LayoutModel",
      "_view_count": null,
      "_view_module": "@jupyter-widgets/base",
      "_view_module_version": "1.2.0",
      "_view_name": "LayoutView",
      "align_content": null,
      "align_items": null,
      "align_self": null,
      "border": null,
      "bottom": null,
      "display": null,
      "flex": null,
      "flex_flow": null,
      "grid_area": null,
      "grid_auto_columns": null,
      "grid_auto_flow": null,
      "grid_auto_rows": null,
      "grid_column": null,
      "grid_gap": null,
      "grid_row": null,
      "grid_template_areas": null,
      "grid_template_columns": null,
      "grid_template_rows": null,
      "height": null,
      "justify_content": null,
      "justify_items": null,
      "left": null,
      "margin": null,
      "max_height": null,
      "max_width": null,
      "min_height": null,
      "min_width": null,
      "object_fit": null,
      "object_position": null,
      "order": null,
      "overflow": null,
      "overflow_x": null,
      "overflow_y": null,
      "padding": null,
      "right": null,
      "top": null,
      "visibility": null,
      "width": null
     }
    },
    "9e174a40d7334394b24e54797ac15e77": {
     "model_module": "@jupyter-widgets/controls",
     "model_module_version": "1.5.0",
     "model_name": "FloatProgressModel",
     "state": {
      "_dom_classes": [],
      "_model_module": "@jupyter-widgets/controls",
      "_model_module_version": "1.5.0",
      "_model_name": "FloatProgressModel",
      "_view_count": null,
      "_view_module": "@jupyter-widgets/controls",
      "_view_module_version": "1.5.0",
      "_view_name": "ProgressView",
      "bar_style": "success",
      "description": "",
      "description_tooltip": null,
      "layout": "IPY_MODEL_f08ba0f234554204808036afa9cdb197",
      "max": 1000,
      "min": 0,
      "orientation": "horizontal",
      "style": "IPY_MODEL_31e179d7623e4366907861014e45bc7f",
      "value": 1000
     }
    },
    "bcc20445c38647e1ad5ffe2535fe2a8f": {
     "model_module": "@jupyter-widgets/controls",
     "model_module_version": "1.5.0",
     "model_name": "HTMLModel",
     "state": {
      "_dom_classes": [],
      "_model_module": "@jupyter-widgets/controls",
      "_model_module_version": "1.5.0",
      "_model_name": "HTMLModel",
      "_view_count": null,
      "_view_module": "@jupyter-widgets/controls",
      "_view_module_version": "1.5.0",
      "_view_name": "HTMLView",
      "description": "",
      "description_tooltip": null,
      "layout": "IPY_MODEL_78672a7d92424be091dc7abd8e826655",
      "placeholder": "​",
      "style": "IPY_MODEL_e8bda1946c6c4ceba0d3fbc03c3c3552",
      "value": " 1000/1000 [49:22&lt;00:00,  2.96s/it]"
     }
    },
    "e8bda1946c6c4ceba0d3fbc03c3c3552": {
     "model_module": "@jupyter-widgets/controls",
     "model_module_version": "1.5.0",
     "model_name": "DescriptionStyleModel",
     "state": {
      "_model_module": "@jupyter-widgets/controls",
      "_model_module_version": "1.5.0",
      "_model_name": "DescriptionStyleModel",
      "_view_count": null,
      "_view_module": "@jupyter-widgets/base",
      "_view_module_version": "1.2.0",
      "_view_name": "StyleView",
      "description_width": ""
     }
    },
    "e8c3a6a2687544628ad9db045bbffb70": {
     "model_module": "@jupyter-widgets/controls",
     "model_module_version": "1.5.0",
     "model_name": "DescriptionStyleModel",
     "state": {
      "_model_module": "@jupyter-widgets/controls",
      "_model_module_version": "1.5.0",
      "_model_name": "DescriptionStyleModel",
      "_view_count": null,
      "_view_module": "@jupyter-widgets/base",
      "_view_module_version": "1.2.0",
      "_view_name": "StyleView",
      "description_width": ""
     }
    },
    "f08ba0f234554204808036afa9cdb197": {
     "model_module": "@jupyter-widgets/base",
     "model_module_version": "1.2.0",
     "model_name": "LayoutModel",
     "state": {
      "_model_module": "@jupyter-widgets/base",
      "_model_module_version": "1.2.0",
      "_model_name": "LayoutModel",
      "_view_count": null,
      "_view_module": "@jupyter-widgets/base",
      "_view_module_version": "1.2.0",
      "_view_name": "LayoutView",
      "align_content": null,
      "align_items": null,
      "align_self": null,
      "border": null,
      "bottom": null,
      "display": null,
      "flex": null,
      "flex_flow": null,
      "grid_area": null,
      "grid_auto_columns": null,
      "grid_auto_flow": null,
      "grid_auto_rows": null,
      "grid_column": null,
      "grid_gap": null,
      "grid_row": null,
      "grid_template_areas": null,
      "grid_template_columns": null,
      "grid_template_rows": null,
      "height": null,
      "justify_content": null,
      "justify_items": null,
      "left": null,
      "margin": null,
      "max_height": null,
      "max_width": null,
      "min_height": null,
      "min_width": null,
      "object_fit": null,
      "object_position": null,
      "order": null,
      "overflow": null,
      "overflow_x": null,
      "overflow_y": null,
      "padding": null,
      "right": null,
      "top": null,
      "visibility": null,
      "width": null
     }
    }
   }
  }
 },
 "nbformat": 4,
 "nbformat_minor": 1
}
